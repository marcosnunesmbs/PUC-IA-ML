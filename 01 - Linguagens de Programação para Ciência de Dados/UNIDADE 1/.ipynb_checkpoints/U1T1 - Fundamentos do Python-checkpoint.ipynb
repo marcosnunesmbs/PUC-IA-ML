{
 "cells": [
  {
   "cell_type": "markdown",
   "metadata": {},
   "source": [
    "# Tipos de Dados\n",
    "1. Simples\n",
    "    1. Numéricos\n",
    "        1. Inteiro (int)\n",
    "        2. Ponto Flutuante (float) \n",
    "    2. Não-numéricos\n",
    "        1. Lógico/Booleano (boo)\n",
    "        2. Text/String (str)\n",
    "2. Estruturais\n",
    "    1. Lista (list)\n",
    "    2. Tupla (tuple)\n",
    "    3. Faixa (range)\n",
    "    4. Discionário (dict)"
   ]
  },
  {
   "cell_type": "code",
   "execution_count": null,
   "metadata": {},
   "outputs": [],
   "source": []
  }
 ],
 "metadata": {
  "kernelspec": {
   "display_name": "Python 3",
   "language": "python",
   "name": "python3"
  },
  "language_info": {
   "codemirror_mode": {
    "name": "ipython",
    "version": 3
   },
   "file_extension": ".py",
   "mimetype": "text/x-python",
   "name": "python",
   "nbconvert_exporter": "python",
   "pygments_lexer": "ipython3",
   "version": "3.8.3"
  }
 },
 "nbformat": 4,
 "nbformat_minor": 4
}
