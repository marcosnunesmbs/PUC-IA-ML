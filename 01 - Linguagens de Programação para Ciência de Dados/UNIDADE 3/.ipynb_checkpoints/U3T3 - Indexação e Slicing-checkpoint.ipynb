{
 "cells": [
  {
   "cell_type": "code",
   "execution_count": null,
   "metadata": {
    "collapsed": true
   },
   "outputs": [],
   "source": []
  },
  {
   "cell_type": "markdown",
   "metadata": {},
   "source": [
    "# Indexação e fatiamento (slicing)"
   ]
  },
  {
   "cell_type": "code",
   "execution_count": 1,
   "metadata": {},
   "outputs": [],
   "source": [
    "# Importando o NumPy\n",
    "import numpy as np"
   ]
  },
  {
   "cell_type": "code",
   "execution_count": 2,
   "metadata": {},
   "outputs": [
    {
     "data": {
      "text/plain": [
       "array([3, 7, 6, 4, 2, 9, 7, 3, 6, 1])"
      ]
     },
     "execution_count": 2,
     "metadata": {},
     "output_type": "execute_result"
    }
   ],
   "source": [
    "# Cria um ndarray com 10 elementos entre 0 e 9\n",
    "a1D = np.random.randint(0, 10, 10)\n",
    "a1D"
   ]
  },
  {
   "cell_type": "code",
   "execution_count": 3,
   "metadata": {},
   "outputs": [
    {
     "data": {
      "text/plain": [
       "array([[24, 84, 82, 57, 76],\n",
       "       [57, 77, 47, 55, 28],\n",
       "       [49, 52, 44, 39, 47],\n",
       "       [84, 90, 27, 43, 83]])"
      ]
     },
     "execution_count": 3,
     "metadata": {},
     "output_type": "execute_result"
    }
   ],
   "source": [
    "a2D = np.random.randint(1, 101, (4,5)) # Cria um ndarray de 4 linhas x 5 colunas com elementos entre 1 e 100\n",
    "a2D"
   ]
  },
  {
   "cell_type": "code",
   "execution_count": 4,
   "metadata": {},
   "outputs": [
    {
     "data": {
      "text/plain": [
       "array([[[0.88720697, 0.14172453, 0.68358888, 0.53132012, 0.58597368],\n",
       "        [0.06332662, 0.00480406, 0.30022844, 0.33106264, 0.93174487],\n",
       "        [0.80329166, 0.05535711, 0.19428014, 0.15125549, 0.03183321],\n",
       "        [0.07259996, 0.69920108, 0.14796289, 0.05212782, 0.9861232 ]],\n",
       "\n",
       "       [[0.89658827, 0.26275716, 0.36136653, 0.72448043, 0.73187594],\n",
       "        [0.8340891 , 0.13870417, 0.23590704, 0.85515468, 0.43869803],\n",
       "        [0.9489325 , 0.47500036, 0.69271644, 0.78291682, 0.09097189],\n",
       "        [0.80119116, 0.80302649, 0.29870696, 0.2989738 , 0.35722658]],\n",
       "\n",
       "       [[0.65718898, 0.24558324, 0.79236134, 0.46982839, 0.85116803],\n",
       "        [0.5043394 , 0.76706321, 0.23984608, 0.86035417, 0.14361975],\n",
       "        [0.194876  , 0.67411862, 0.7346234 , 0.94957784, 0.86089822],\n",
       "        [0.88466818, 0.78614794, 0.35598689, 0.11644415, 0.68143328]]])"
      ]
     },
     "execution_count": 4,
     "metadata": {},
     "output_type": "execute_result"
    }
   ],
   "source": [
    "a3D = np.random.random((3,4,5)) # Cria um ndarray de 3 páginas x 4 linhas x 5 colunas com elementos entre 0 e 1\n",
    "a3D"
   ]
  },
  {
   "cell_type": "markdown",
   "metadata": {},
   "source": [
    "### Acessando elementos específicos"
   ]
  },
  {
   "cell_type": "code",
   "execution_count": 5,
   "metadata": {},
   "outputs": [
    {
     "data": {
      "text/plain": [
       "array([3, 7, 6, 4, 2, 9, 7, 3, 6, 1])"
      ]
     },
     "execution_count": 5,
     "metadata": {},
     "output_type": "execute_result"
    }
   ],
   "source": [
    "# Acessando elementos de um ndarray de 1 dimensão\n",
    "a1D"
   ]
  },
  {
   "cell_type": "code",
   "execution_count": 6,
   "metadata": {},
   "outputs": [
    {
     "data": {
      "text/plain": [
       "3"
      ]
     },
     "execution_count": 6,
     "metadata": {},
     "output_type": "execute_result"
    }
   ],
   "source": [
    "# nome_do_array[índice]\n",
    "a1D[0]"
   ]
  },
  {
   "cell_type": "code",
   "execution_count": 7,
   "metadata": {},
   "outputs": [
    {
     "data": {
      "text/plain": [
       "6"
      ]
     },
     "execution_count": 7,
     "metadata": {},
     "output_type": "execute_result"
    }
   ],
   "source": [
    "a1D[2]"
   ]
  },
  {
   "cell_type": "code",
   "execution_count": 8,
   "metadata": {},
   "outputs": [
    {
     "data": {
      "text/plain": [
       "1"
      ]
     },
     "execution_count": 8,
     "metadata": {},
     "output_type": "execute_result"
    }
   ],
   "source": [
    "a1D[-1]"
   ]
  },
  {
   "cell_type": "code",
   "execution_count": 9,
   "metadata": {},
   "outputs": [
    {
     "data": {
      "text/plain": [
       "array([4, 3, 1])"
      ]
     },
     "execution_count": 9,
     "metadata": {},
     "output_type": "execute_result"
    }
   ],
   "source": [
    "indices = [3, 0, -1] # Definindo uma lista com os índices que se deseja acessar\n",
    "a1D[indices]"
   ]
  },
  {
   "cell_type": "code",
   "execution_count": 10,
   "metadata": {},
   "outputs": [
    {
     "data": {
      "text/plain": [
       "array([[24, 84, 82, 57, 76],\n",
       "       [57, 77, 47, 55, 28],\n",
       "       [49, 52, 44, 39, 47],\n",
       "       [84, 90, 27, 43, 83]])"
      ]
     },
     "execution_count": 10,
     "metadata": {},
     "output_type": "execute_result"
    }
   ],
   "source": [
    "# Acessando elementos de um ndarray de 2 dimensões\n",
    "a2D"
   ]
  },
  {
   "cell_type": "code",
   "execution_count": 11,
   "metadata": {},
   "outputs": [
    {
     "data": {
      "text/plain": [
       "47"
      ]
     },
     "execution_count": 11,
     "metadata": {},
     "output_type": "execute_result"
    }
   ],
   "source": [
    "# nome_da_matriz[linha][coluna]\n",
    "a2D[1][2]"
   ]
  },
  {
   "cell_type": "code",
   "execution_count": 12,
   "metadata": {},
   "outputs": [
    {
     "data": {
      "text/plain": [
       "83"
      ]
     },
     "execution_count": 12,
     "metadata": {},
     "output_type": "execute_result"
    }
   ],
   "source": [
    "a2D[3][4]"
   ]
  },
  {
   "cell_type": "code",
   "execution_count": 13,
   "metadata": {},
   "outputs": [
    {
     "data": {
      "text/plain": [
       "array([24, 77, 44, 43])"
      ]
     },
     "execution_count": 13,
     "metadata": {},
     "output_type": "execute_result"
    }
   ],
   "source": [
    "indice_lin = [0, 1, 2, 3]\n",
    "indice_col = [0, 1, 2, 3]\n",
    "\n",
    "a2D[indice_lin, indice_col]"
   ]
  },
  {
   "cell_type": "code",
   "execution_count": 14,
   "metadata": {},
   "outputs": [
    {
     "data": {
      "text/plain": [
       "array([57, 47, 52, 84])"
      ]
     },
     "execution_count": 14,
     "metadata": {},
     "output_type": "execute_result"
    }
   ],
   "source": [
    "indice_lin = [0, 1, 2, 3]\n",
    "indice_col = [3, 2, 1, 0]\n",
    "\n",
    "a2D[indice_lin, indice_col]"
   ]
  },
  {
   "cell_type": "code",
   "execution_count": 15,
   "metadata": {},
   "outputs": [
    {
     "data": {
      "text/plain": [
       "array([43, 44, 77, 24])"
      ]
     },
     "execution_count": 15,
     "metadata": {},
     "output_type": "execute_result"
    }
   ],
   "source": [
    "indice_lin = [3, 2, 1, 0]\n",
    "indice_col = [3, 2, 1, 0]\n",
    "\n",
    "a2D[indice_lin, indice_col]"
   ]
  },
  {
   "cell_type": "code",
   "execution_count": 16,
   "metadata": {},
   "outputs": [
    {
     "data": {
      "text/plain": [
       "array([[24, 84, 82, 24],\n",
       "       [57, 77, 47, 57],\n",
       "       [49, 52, 44, 49],\n",
       "       [84, 90, 27, 84]])"
      ]
     },
     "execution_count": 16,
     "metadata": {},
     "output_type": "execute_result"
    }
   ],
   "source": [
    "a2D[:,[0,1,2,0]] "
   ]
  },
  {
   "cell_type": "code",
   "execution_count": 17,
   "metadata": {},
   "outputs": [
    {
     "data": {
      "text/plain": [
       "array([[57, 77, 47, 57],\n",
       "       [24, 84, 82, 24],\n",
       "       [57, 77, 47, 57],\n",
       "       [24, 84, 82, 24]])"
      ]
     },
     "execution_count": 17,
     "metadata": {},
     "output_type": "execute_result"
    }
   ],
   "source": [
    "a2D[:,[0,1,2,0]][[1, 0, 1, 0]]"
   ]
  },
  {
   "cell_type": "code",
   "execution_count": 18,
   "metadata": {},
   "outputs": [
    {
     "data": {
      "text/plain": [
       "array([[24, 84, 82, 57, 76],\n",
       "       [57, 77, 47, 55, 28],\n",
       "       [49, 52, 44, 39, 47],\n",
       "       [84, 90, 27, 43, 83]])"
      ]
     },
     "execution_count": 18,
     "metadata": {},
     "output_type": "execute_result"
    }
   ],
   "source": [
    "a2D"
   ]
  },
  {
   "cell_type": "code",
   "execution_count": 19,
   "metadata": {},
   "outputs": [
    {
     "data": {
      "text/plain": [
       "array([[57, 77, 47, 57],\n",
       "       [24, 84, 82, 24],\n",
       "       [57, 77, 47, 57],\n",
       "       [24, 84, 82, 24]])"
      ]
     },
     "execution_count": 19,
     "metadata": {},
     "output_type": "execute_result"
    }
   ],
   "source": [
    "a2D[[1, 0, 1, 0]][:,[0,1,2,0]] "
   ]
  },
  {
   "cell_type": "code",
   "execution_count": 20,
   "metadata": {},
   "outputs": [
    {
     "data": {
      "text/plain": [
       "array([[[0.88720697, 0.14172453, 0.68358888, 0.53132012, 0.58597368],\n",
       "        [0.06332662, 0.00480406, 0.30022844, 0.33106264, 0.93174487],\n",
       "        [0.80329166, 0.05535711, 0.19428014, 0.15125549, 0.03183321],\n",
       "        [0.07259996, 0.69920108, 0.14796289, 0.05212782, 0.9861232 ]],\n",
       "\n",
       "       [[0.89658827, 0.26275716, 0.36136653, 0.72448043, 0.73187594],\n",
       "        [0.8340891 , 0.13870417, 0.23590704, 0.85515468, 0.43869803],\n",
       "        [0.9489325 , 0.47500036, 0.69271644, 0.78291682, 0.09097189],\n",
       "        [0.80119116, 0.80302649, 0.29870696, 0.2989738 , 0.35722658]],\n",
       "\n",
       "       [[0.65718898, 0.24558324, 0.79236134, 0.46982839, 0.85116803],\n",
       "        [0.5043394 , 0.76706321, 0.23984608, 0.86035417, 0.14361975],\n",
       "        [0.194876  , 0.67411862, 0.7346234 , 0.94957784, 0.86089822],\n",
       "        [0.88466818, 0.78614794, 0.35598689, 0.11644415, 0.68143328]]])"
      ]
     },
     "execution_count": 20,
     "metadata": {},
     "output_type": "execute_result"
    }
   ],
   "source": [
    "# Acessando elementos de um ndarray de 3 dimensões\n",
    "a3D"
   ]
  },
  {
   "cell_type": "code",
   "execution_count": 21,
   "metadata": {},
   "outputs": [
    {
     "data": {
      "text/plain": [
       "0.46982838816447214"
      ]
     },
     "execution_count": 21,
     "metadata": {},
     "output_type": "execute_result"
    }
   ],
   "source": [
    "# nome_do_cubo[página][linha][coluna]\n",
    "a3D[2][0][3]"
   ]
  },
  {
   "cell_type": "code",
   "execution_count": 22,
   "metadata": {},
   "outputs": [
    {
     "data": {
      "text/plain": [
       "0.6992010784295932"
      ]
     },
     "execution_count": 22,
     "metadata": {},
     "output_type": "execute_result"
    }
   ],
   "source": [
    "a3D[0][3][1]"
   ]
  },
  {
   "cell_type": "markdown",
   "metadata": {},
   "source": [
    "### Fatiamento (slicing)"
   ]
  },
  {
   "cell_type": "code",
   "execution_count": 23,
   "metadata": {},
   "outputs": [
    {
     "data": {
      "text/plain": [
       "array([3, 7, 6, 4, 2, 9, 7, 3, 6, 1])"
      ]
     },
     "execution_count": 23,
     "metadata": {},
     "output_type": "execute_result"
    }
   ],
   "source": [
    "# Array de 1 dimensão\n",
    "a1D"
   ]
  },
  {
   "cell_type": "code",
   "execution_count": 24,
   "metadata": {},
   "outputs": [
    {
     "data": {
      "text/plain": [
       "array([7, 6, 4, 2])"
      ]
     },
     "execution_count": 24,
     "metadata": {},
     "output_type": "execute_result"
    }
   ],
   "source": [
    "a = a1D[1:5] # Índice 1 ao 4\n",
    "a"
   ]
  },
  {
   "cell_type": "code",
   "execution_count": 25,
   "metadata": {},
   "outputs": [
    {
     "data": {
      "text/plain": [
       "array([3, 7, 6, 4, 2, 9])"
      ]
     },
     "execution_count": 25,
     "metadata": {},
     "output_type": "execute_result"
    }
   ],
   "source": [
    "b = a1D[0:6] # Índice 0 ao 5\n",
    "b"
   ]
  },
  {
   "cell_type": "code",
   "execution_count": 26,
   "metadata": {},
   "outputs": [
    {
     "data": {
      "text/plain": [
       "array([3, 7, 6, 4, 2, 9])"
      ]
     },
     "execution_count": 26,
     "metadata": {},
     "output_type": "execute_result"
    }
   ],
   "source": [
    "c = a1D[:6] # Do início ao 5\n",
    "c"
   ]
  },
  {
   "cell_type": "code",
   "execution_count": 27,
   "metadata": {},
   "outputs": [
    {
     "data": {
      "text/plain": [
       "array([3, 6, 2, 7, 6])"
      ]
     },
     "execution_count": 27,
     "metadata": {},
     "output_type": "execute_result"
    }
   ],
   "source": [
    "d = a1D[::2] # Do início ao fim, com passo 2\n",
    "d"
   ]
  },
  {
   "cell_type": "code",
   "execution_count": 28,
   "metadata": {},
   "outputs": [
    {
     "data": {
      "text/plain": [
       "array([1, 6, 3, 7, 9, 2, 4, 6, 7, 3])"
      ]
     },
     "execution_count": 28,
     "metadata": {},
     "output_type": "execute_result"
    }
   ],
   "source": [
    "e = a1D[-1::-1] # Do final até o início\n",
    "e"
   ]
  },
  {
   "cell_type": "code",
   "execution_count": 29,
   "metadata": {},
   "outputs": [
    {
     "data": {
      "text/plain": [
       "array([[24, 84, 82, 57, 76],\n",
       "       [57, 77, 47, 55, 28],\n",
       "       [49, 52, 44, 39, 47],\n",
       "       [84, 90, 27, 43, 83]])"
      ]
     },
     "execution_count": 29,
     "metadata": {},
     "output_type": "execute_result"
    }
   ],
   "source": [
    "# Array de 2 dimensões\n",
    "a2D"
   ]
  },
  {
   "cell_type": "code",
   "execution_count": 30,
   "metadata": {},
   "outputs": [
    {
     "data": {
      "text/plain": [
       "array([24, 84, 82, 57, 76])"
      ]
     },
     "execution_count": 30,
     "metadata": {},
     "output_type": "execute_result"
    }
   ],
   "source": [
    "linha0 = a2D[0] # Todos os elementos da linha 0 - outra forma seria: linha0 = a2D[0,:]\n",
    "linha0"
   ]
  },
  {
   "cell_type": "code",
   "execution_count": 31,
   "metadata": {},
   "outputs": [
    {
     "data": {
      "text/plain": [
       "array([57, 77, 47, 55, 28])"
      ]
     },
     "execution_count": 31,
     "metadata": {},
     "output_type": "execute_result"
    }
   ],
   "source": [
    "linha1 = a2D[1,:] # Todos os elementos da linha 1\n",
    "linha1"
   ]
  },
  {
   "cell_type": "code",
   "execution_count": 32,
   "metadata": {},
   "outputs": [
    {
     "data": {
      "text/plain": [
       "array([52, 44, 39])"
      ]
     },
     "execution_count": 32,
     "metadata": {},
     "output_type": "execute_result"
    }
   ],
   "source": [
    "linha2 = a2D[2,1:4] # Linha 2, colunas 1, 2 e 3\n",
    "linha2"
   ]
  },
  {
   "cell_type": "code",
   "execution_count": 33,
   "metadata": {},
   "outputs": [
    {
     "data": {
      "text/plain": [
       "array([84, 90, 27, 43, 83])"
      ]
     },
     "execution_count": 33,
     "metadata": {},
     "output_type": "execute_result"
    }
   ],
   "source": [
    "linha3 = a2D[:][3] # a2D[:] retorna toda a matriz, então de toda a matriz queremos a linha 3 a2D[:][3]\n",
    "linha3"
   ]
  },
  {
   "cell_type": "code",
   "execution_count": 34,
   "metadata": {},
   "outputs": [
    {
     "data": {
      "text/plain": [
       "array([82, 47, 44, 27])"
      ]
     },
     "execution_count": 34,
     "metadata": {},
     "output_type": "execute_result"
    }
   ],
   "source": [
    "coluna2 = a2D[:,2] # De todas as linhas, selecionar a coluna 2\n",
    "coluna2"
   ]
  },
  {
   "cell_type": "code",
   "execution_count": 35,
   "metadata": {},
   "outputs": [
    {
     "data": {
      "text/plain": [
       "array([55, 39, 43])"
      ]
     },
     "execution_count": 35,
     "metadata": {},
     "output_type": "execute_result"
    }
   ],
   "source": [
    "coluna3 = a2D[1:,3] # Da linha um até a última, selecionar a coluna 3\n",
    "coluna3"
   ]
  },
  {
   "cell_type": "code",
   "execution_count": 36,
   "metadata": {},
   "outputs": [
    {
     "data": {
      "text/plain": [
       "array([[[0.88720697, 0.14172453, 0.68358888, 0.53132012, 0.58597368],\n",
       "        [0.06332662, 0.00480406, 0.30022844, 0.33106264, 0.93174487],\n",
       "        [0.80329166, 0.05535711, 0.19428014, 0.15125549, 0.03183321],\n",
       "        [0.07259996, 0.69920108, 0.14796289, 0.05212782, 0.9861232 ]],\n",
       "\n",
       "       [[0.89658827, 0.26275716, 0.36136653, 0.72448043, 0.73187594],\n",
       "        [0.8340891 , 0.13870417, 0.23590704, 0.85515468, 0.43869803],\n",
       "        [0.9489325 , 0.47500036, 0.69271644, 0.78291682, 0.09097189],\n",
       "        [0.80119116, 0.80302649, 0.29870696, 0.2989738 , 0.35722658]],\n",
       "\n",
       "       [[0.65718898, 0.24558324, 0.79236134, 0.46982839, 0.85116803],\n",
       "        [0.5043394 , 0.76706321, 0.23984608, 0.86035417, 0.14361975],\n",
       "        [0.194876  , 0.67411862, 0.7346234 , 0.94957784, 0.86089822],\n",
       "        [0.88466818, 0.78614794, 0.35598689, 0.11644415, 0.68143328]]])"
      ]
     },
     "execution_count": 36,
     "metadata": {},
     "output_type": "execute_result"
    }
   ],
   "source": [
    "# Array de 3 dimensões\n",
    "a3D"
   ]
  },
  {
   "cell_type": "code",
   "execution_count": 37,
   "metadata": {},
   "outputs": [
    {
     "data": {
      "text/plain": [
       "array([[0.89658827, 0.26275716, 0.36136653, 0.72448043, 0.73187594],\n",
       "       [0.8340891 , 0.13870417, 0.23590704, 0.85515468, 0.43869803],\n",
       "       [0.9489325 , 0.47500036, 0.69271644, 0.78291682, 0.09097189],\n",
       "       [0.80119116, 0.80302649, 0.29870696, 0.2989738 , 0.35722658]])"
      ]
     },
     "execution_count": 37,
     "metadata": {},
     "output_type": "execute_result"
    }
   ],
   "source": [
    "# Acessando a página/face 1\n",
    "face1 = a3D[1]\n",
    "face1"
   ]
  },
  {
   "cell_type": "code",
   "execution_count": 38,
   "metadata": {},
   "outputs": [
    {
     "data": {
      "text/plain": [
       "array([[0.26275716, 0.36136653, 0.72448043],\n",
       "       [0.13870417, 0.23590704, 0.85515468],\n",
       "       [0.47500036, 0.69271644, 0.78291682]])"
      ]
     },
     "execution_count": 38,
     "metadata": {},
     "output_type": "execute_result"
    }
   ],
   "source": [
    "# Acessando uma parte da face1\n",
    "subface1 = a3D[1,0:3, 1:4]\n",
    "subface1"
   ]
  },
  {
   "cell_type": "code",
   "execution_count": 39,
   "metadata": {},
   "outputs": [
    {
     "data": {
      "text/plain": [
       "array([0.80329166, 0.05535711, 0.19428014, 0.15125549, 0.03183321])"
      ]
     },
     "execution_count": 39,
     "metadata": {},
     "output_type": "execute_result"
    }
   ],
   "source": [
    "linha2face0 = a3D[0,2] # outra forma: linha2face0 = a3D[0,2,:]\n",
    "linha2face0"
   ]
  },
  {
   "cell_type": "code",
   "execution_count": 40,
   "metadata": {},
   "outputs": [
    {
     "data": {
      "text/plain": [
       "array([[[0.88720697, 0.14172453, 0.68358888, 0.53132012, 0.58597368],\n",
       "        [0.06332662, 0.00480406, 0.30022844, 0.33106264, 0.93174487],\n",
       "        [0.80329166, 0.05535711, 0.19428014, 0.15125549, 0.03183321],\n",
       "        [0.07259996, 0.69920108, 0.14796289, 0.05212782, 0.9861232 ]],\n",
       "\n",
       "       [[0.89658827, 0.26275716, 0.36136653, 0.72448043, 0.73187594],\n",
       "        [0.8340891 , 0.13870417, 0.23590704, 0.85515468, 0.43869803],\n",
       "        [0.9489325 , 0.47500036, 0.69271644, 0.78291682, 0.09097189],\n",
       "        [0.80119116, 0.80302649, 0.29870696, 0.2989738 , 0.35722658]],\n",
       "\n",
       "       [[0.65718898, 0.24558324, 0.79236134, 0.46982839, 0.85116803],\n",
       "        [0.5043394 , 0.76706321, 0.23984608, 0.86035417, 0.14361975],\n",
       "        [0.194876  , 0.67411862, 0.7346234 , 0.94957784, 0.86089822],\n",
       "        [0.88466818, 0.78614794, 0.35598689, 0.11644415, 0.68143328]]])"
      ]
     },
     "execution_count": 40,
     "metadata": {},
     "output_type": "execute_result"
    }
   ],
   "source": [
    "a3D"
   ]
  },
  {
   "cell_type": "code",
   "execution_count": 41,
   "metadata": {},
   "outputs": [
    {
     "data": {
      "text/plain": [
       "array([[0.06332662, 0.00480406, 0.30022844, 0.33106264, 0.93174487],\n",
       "       [0.8340891 , 0.13870417, 0.23590704, 0.85515468, 0.43869803],\n",
       "       [0.5043394 , 0.76706321, 0.23984608, 0.86035417, 0.14361975]])"
      ]
     },
     "execution_count": 41,
     "metadata": {},
     "output_type": "execute_result"
    }
   ],
   "source": [
    "linha1todasfaces = a3D[:,1] # outra forma: linha1todasfaces = a3D[:,1,:]\n",
    "linha1todasfaces"
   ]
  },
  {
   "cell_type": "code",
   "execution_count": 42,
   "metadata": {},
   "outputs": [
    {
     "data": {
      "text/plain": [
       "array([[0.53132012, 0.33106264, 0.15125549, 0.05212782],\n",
       "       [0.72448043, 0.85515468, 0.78291682, 0.2989738 ],\n",
       "       [0.46982839, 0.86035417, 0.94957784, 0.11644415]])"
      ]
     },
     "execution_count": 42,
     "metadata": {},
     "output_type": "execute_result"
    }
   ],
   "source": [
    "coluna3todasfaces = a3D[:,:,3]\n",
    "coluna3todasfaces"
   ]
  },
  {
   "cell_type": "markdown",
   "metadata": {},
   "source": [
    "### Indexação com booleanos"
   ]
  },
  {
   "cell_type": "code",
   "execution_count": 43,
   "metadata": {},
   "outputs": [
    {
     "data": {
      "text/plain": [
       "array([[381, 474, 404, 325, 211, 241,  10, 327],\n",
       "       [287,  23, 371, 458, 227, 168, 485, 386],\n",
       "       [438,  37, 343, 385, 317, 287, 250, 261],\n",
       "       [109, 252, 124, 345, 318, 484, 313, 320],\n",
       "       [114, 113, 116, 182, 142,  94,  71, 440],\n",
       "       [337, 350, 413, 120, 287, 367, 329, 314],\n",
       "       [431, 186, 136, 436, 236, 329, 202, 133],\n",
       "       [190, 402,  47, 412,  79, 445, 353, 408],\n",
       "       [490, 252, 400, 183, 481, 336, 133,  40],\n",
       "       [259, 357, 275, 465, 358,  37,  96, 347]])"
      ]
     },
     "execution_count": 43,
     "metadata": {},
     "output_type": "execute_result"
    }
   ],
   "source": [
    "a2D = np.random.randint(1, 501, (10, 8)) # Cria um ndarray de 4 linhas x 5 colunas com elementos entre 1 e 100\n",
    "a2D"
   ]
  },
  {
   "cell_type": "code",
   "execution_count": 44,
   "metadata": {},
   "outputs": [
    {
     "data": {
      "text/plain": [
       "array([[ True,  True,  True,  True, False, False, False,  True],\n",
       "       [ True, False,  True,  True, False, False,  True,  True],\n",
       "       [ True, False,  True,  True,  True,  True,  True,  True],\n",
       "       [False,  True, False,  True,  True,  True,  True,  True],\n",
       "       [False, False, False, False, False, False, False,  True],\n",
       "       [ True,  True,  True, False,  True,  True,  True,  True],\n",
       "       [ True, False, False,  True, False,  True, False, False],\n",
       "       [False,  True, False,  True, False,  True,  True,  True],\n",
       "       [ True,  True,  True, False,  True,  True, False, False],\n",
       "       [ True,  True,  True,  True,  True, False, False,  True]])"
      ]
     },
     "execution_count": 44,
     "metadata": {},
     "output_type": "execute_result"
    }
   ],
   "source": [
    "a2D >= 250"
   ]
  },
  {
   "cell_type": "code",
   "execution_count": 45,
   "metadata": {},
   "outputs": [
    {
     "data": {
      "text/plain": [
       "array([381, 474, 404, 325, 327, 287, 371, 458, 485, 386, 438, 343, 385,\n",
       "       317, 287, 250, 261, 252, 345, 318, 484, 313, 320, 440, 337, 350,\n",
       "       413, 287, 367, 329, 314, 431, 436, 329, 402, 412, 445, 353, 408,\n",
       "       490, 252, 400, 481, 336, 259, 357, 275, 465, 358, 347])"
      ]
     },
     "execution_count": 45,
     "metadata": {},
     "output_type": "execute_result"
    }
   ],
   "source": [
    "a2D[a2D >= 250]"
   ]
  },
  {
   "cell_type": "code",
   "execution_count": 46,
   "metadata": {},
   "outputs": [
    {
     "data": {
      "text/plain": [
       "276.05"
      ]
     },
     "execution_count": 46,
     "metadata": {},
     "output_type": "execute_result"
    }
   ],
   "source": [
    "a2D.mean()"
   ]
  },
  {
   "cell_type": "code",
   "execution_count": 47,
   "metadata": {},
   "outputs": [
    {
     "data": {
      "text/plain": [
       "array([211, 241,  10,  23, 227, 168,  37, 250, 261, 109, 252, 124, 114,\n",
       "       113, 116, 182, 142,  94,  71, 120, 186, 136, 236, 202, 133, 190,\n",
       "        47,  79, 252, 183, 133,  40, 259, 275,  37,  96])"
      ]
     },
     "execution_count": 47,
     "metadata": {},
     "output_type": "execute_result"
    }
   ],
   "source": [
    "a2D[a2D <= a2D.mean()]"
   ]
  },
  {
   "cell_type": "code",
   "execution_count": null,
   "metadata": {
    "collapsed": true
   },
   "outputs": [],
   "source": []
  }
 ],
 "metadata": {
  "kernelspec": {
   "display_name": "Python 3",
   "language": "python",
   "name": "python3"
  },
  "language_info": {
   "codemirror_mode": {
    "name": "ipython",
    "version": 3
   },
   "file_extension": ".py",
   "mimetype": "text/x-python",
   "name": "python",
   "nbconvert_exporter": "python",
   "pygments_lexer": "ipython3",
   "version": "3.8.3"
  }
 },
 "nbformat": 4,
 "nbformat_minor": 2
}
